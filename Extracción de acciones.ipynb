{
 "cells": [
  {
   "cell_type": "markdown",
   "id": "53399687",
   "metadata": {},
   "source": [
    "Primero, creamos el script que nos permitirá conectarnos a nuestra base de datos en SQL"
   ]
  },
  {
   "cell_type": "code",
   "execution_count": null,
   "id": "f2ee019f",
   "metadata": {},
   "outputs": [],
   "source": [
    "import pandas as pd #librería para gestionar dataframes\n",
    "import pyodbc #librería que sirve para conectarse a diferentes tipos de bases de datos\n",
    "from sqlalchemy import create_engine #librería encargada de crear el engine\n",
    "\n",
    "# Configuración de la conexión (en este caso usa los parámetros del propio windows)\n",
    "server = \"LAPTOP-Arturo\" #especificar el nombre del servidor con el que te vas a conectar\n",
    "database = \"Acciones\" #el nombre de la base de datos con la que vas a trabajar\n",
    "\n",
    "# Conectar la base de datos\n",
    "conn_str = f\"mssql+pyodbc://@{server}/{database}?driver=ODBC+Driver+17+for+SQL+Server\" \n",
    "engine = create_engine(conn_str)"
   ]
  },
  {
   "cell_type": "markdown",
   "id": "415a26c6",
   "metadata": {},
   "source": [
    "Acabamos de generar una variable denominada \"engine\" que es nuestra \"llave\" para conectarnos con la base de datos SQL server.\n",
    "Cabe destacar que esta es una versión simplificada que no solicita ni usuario ni contraseña, usa los parámetros de inicio de sesión de Windows\n",
    "\n",
    "Ahora, vamos paso a paso a subir un dataframe a SQL, primero debemos importar uno, usaremos los datos históricos de acciones de una empresa:"
   ]
  },
  {
   "cell_type": "code",
   "execution_count": null,
   "id": "c2718662",
   "metadata": {},
   "outputs": [
    {
     "name": "stderr",
     "output_type": "stream",
     "text": [
      "[*********************100%***********************]  1 of 1 completed\n"
     ]
    },
    {
     "data": {
      "application/vnd.microsoft.datawrangler.viewer.v0+json": {
       "columns": [
        {
         "name": "Date",
         "rawType": "datetime64[ns]",
         "type": "datetime"
        },
        {
         "name": "('Close', 'NVDA')",
         "rawType": "float64",
         "type": "float"
        },
        {
         "name": "('High', 'NVDA')",
         "rawType": "float64",
         "type": "float"
        },
        {
         "name": "('Low', 'NVDA')",
         "rawType": "float64",
         "type": "float"
        },
        {
         "name": "('Open', 'NVDA')",
         "rawType": "float64",
         "type": "float"
        },
        {
         "name": "('Volume', 'NVDA')",
         "rawType": "int64",
         "type": "integer"
        }
       ],
       "conversionMethod": "pd.DataFrame",
       "ref": "f424f20f-89e7-4cbd-9e1b-ff12d987102b",
       "rows": [
        [
         "2020-01-02 00:00:00",
         "5.972162246704102",
         "5.972162246704102",
         "5.892752889630751",
         "5.943286160023145",
         "237536000"
        ],
        [
         "2020-01-03 00:00:00",
         "5.876570701599121",
         "5.920383126947964",
         "5.827530697782755",
         "5.852424132067387",
         "205384000"
        ],
        [
         "2020-01-06 00:00:00",
         "5.901214599609375",
         "5.906442177842307",
         "5.757082528442674",
         "5.783220419607336",
         "262636000"
        ],
        [
         "2020-01-07 00:00:00",
         "5.972659111022949",
         "6.018462860706855",
         "5.88453666408317",
         "5.929593548989243",
         "314856000"
        ],
        [
         "2020-01-08 00:00:00",
         "5.983860969543457",
         "6.025184004233772",
         "5.928348928870455",
         "5.968427030697477",
         "277108000"
        ],
        [
         "2020-01-09 00:00:00",
         "6.049580097198486",
         "6.122019814933287",
         "5.995810576233439",
         "6.070241617025367",
         "255112000"
        ],
        [
         "2020-01-10 00:00:00",
         "6.0819411277771",
         "6.187240048138393",
         "6.067752120336746",
         "6.156870235432352",
         "316296000"
        ],
        [
         "2020-01-13 00:00:00",
         "6.272624492645264",
         "6.2977667270316795",
         "6.142432131580578",
         "6.165085449519322",
         "319840000"
        ],
        [
         "2020-01-14 00:00:00",
         "6.155625820159912",
         "6.255199094022158",
         "6.142431999336012",
         "6.2298075886953805",
         "359088000"
        ],
        [
         "2020-01-15 00:00:00",
         "6.113058090209961",
         "6.19072538934148",
         "6.087168990499455",
         "6.1683213424842025",
         "263104000"
        ]
       ],
       "shape": {
        "columns": 5,
        "rows": 10
       }
      },
      "text/html": [
       "<div>\n",
       "<style scoped>\n",
       "    .dataframe tbody tr th:only-of-type {\n",
       "        vertical-align: middle;\n",
       "    }\n",
       "\n",
       "    .dataframe tbody tr th {\n",
       "        vertical-align: top;\n",
       "    }\n",
       "\n",
       "    .dataframe thead tr th {\n",
       "        text-align: left;\n",
       "    }\n",
       "\n",
       "    .dataframe thead tr:last-of-type th {\n",
       "        text-align: right;\n",
       "    }\n",
       "</style>\n",
       "<table border=\"1\" class=\"dataframe\">\n",
       "  <thead>\n",
       "    <tr>\n",
       "      <th>Price</th>\n",
       "      <th>Close</th>\n",
       "      <th>High</th>\n",
       "      <th>Low</th>\n",
       "      <th>Open</th>\n",
       "      <th>Volume</th>\n",
       "    </tr>\n",
       "    <tr>\n",
       "      <th>Ticker</th>\n",
       "      <th>NVDA</th>\n",
       "      <th>NVDA</th>\n",
       "      <th>NVDA</th>\n",
       "      <th>NVDA</th>\n",
       "      <th>NVDA</th>\n",
       "    </tr>\n",
       "    <tr>\n",
       "      <th>Date</th>\n",
       "      <th></th>\n",
       "      <th></th>\n",
       "      <th></th>\n",
       "      <th></th>\n",
       "      <th></th>\n",
       "    </tr>\n",
       "  </thead>\n",
       "  <tbody>\n",
       "    <tr>\n",
       "      <th>2020-01-02</th>\n",
       "      <td>5.972162</td>\n",
       "      <td>5.972162</td>\n",
       "      <td>5.892753</td>\n",
       "      <td>5.943286</td>\n",
       "      <td>237536000</td>\n",
       "    </tr>\n",
       "    <tr>\n",
       "      <th>2020-01-03</th>\n",
       "      <td>5.876571</td>\n",
       "      <td>5.920383</td>\n",
       "      <td>5.827531</td>\n",
       "      <td>5.852424</td>\n",
       "      <td>205384000</td>\n",
       "    </tr>\n",
       "    <tr>\n",
       "      <th>2020-01-06</th>\n",
       "      <td>5.901215</td>\n",
       "      <td>5.906442</td>\n",
       "      <td>5.757083</td>\n",
       "      <td>5.783220</td>\n",
       "      <td>262636000</td>\n",
       "    </tr>\n",
       "    <tr>\n",
       "      <th>2020-01-07</th>\n",
       "      <td>5.972659</td>\n",
       "      <td>6.018463</td>\n",
       "      <td>5.884537</td>\n",
       "      <td>5.929594</td>\n",
       "      <td>314856000</td>\n",
       "    </tr>\n",
       "    <tr>\n",
       "      <th>2020-01-08</th>\n",
       "      <td>5.983861</td>\n",
       "      <td>6.025184</td>\n",
       "      <td>5.928349</td>\n",
       "      <td>5.968427</td>\n",
       "      <td>277108000</td>\n",
       "    </tr>\n",
       "    <tr>\n",
       "      <th>2020-01-09</th>\n",
       "      <td>6.049580</td>\n",
       "      <td>6.122020</td>\n",
       "      <td>5.995811</td>\n",
       "      <td>6.070242</td>\n",
       "      <td>255112000</td>\n",
       "    </tr>\n",
       "    <tr>\n",
       "      <th>2020-01-10</th>\n",
       "      <td>6.081941</td>\n",
       "      <td>6.187240</td>\n",
       "      <td>6.067752</td>\n",
       "      <td>6.156870</td>\n",
       "      <td>316296000</td>\n",
       "    </tr>\n",
       "    <tr>\n",
       "      <th>2020-01-13</th>\n",
       "      <td>6.272624</td>\n",
       "      <td>6.297767</td>\n",
       "      <td>6.142432</td>\n",
       "      <td>6.165085</td>\n",
       "      <td>319840000</td>\n",
       "    </tr>\n",
       "    <tr>\n",
       "      <th>2020-01-14</th>\n",
       "      <td>6.155626</td>\n",
       "      <td>6.255199</td>\n",
       "      <td>6.142432</td>\n",
       "      <td>6.229808</td>\n",
       "      <td>359088000</td>\n",
       "    </tr>\n",
       "    <tr>\n",
       "      <th>2020-01-15</th>\n",
       "      <td>6.113058</td>\n",
       "      <td>6.190725</td>\n",
       "      <td>6.087169</td>\n",
       "      <td>6.168321</td>\n",
       "      <td>263104000</td>\n",
       "    </tr>\n",
       "  </tbody>\n",
       "</table>\n",
       "</div>"
      ],
      "text/plain": [
       "Price          Close      High       Low      Open     Volume\n",
       "Ticker          NVDA      NVDA      NVDA      NVDA       NVDA\n",
       "Date                                                         \n",
       "2020-01-02  5.972162  5.972162  5.892753  5.943286  237536000\n",
       "2020-01-03  5.876571  5.920383  5.827531  5.852424  205384000\n",
       "2020-01-06  5.901215  5.906442  5.757083  5.783220  262636000\n",
       "2020-01-07  5.972659  6.018463  5.884537  5.929594  314856000\n",
       "2020-01-08  5.983861  6.025184  5.928349  5.968427  277108000\n",
       "2020-01-09  6.049580  6.122020  5.995811  6.070242  255112000\n",
       "2020-01-10  6.081941  6.187240  6.067752  6.156870  316296000\n",
       "2020-01-13  6.272624  6.297767  6.142432  6.165085  319840000\n",
       "2020-01-14  6.155626  6.255199  6.142432  6.229808  359088000\n",
       "2020-01-15  6.113058  6.190725  6.087169  6.168321  263104000"
      ]
     },
     "execution_count": 16,
     "metadata": {},
     "output_type": "execute_result"
    }
   ],
   "source": [
    "#importamos la librería para acceder a los datos de Yahoo Finance\n",
    "import yfinance as yf \n",
    "\n",
    "Ticker = 'NVDA'  #este \"Ticker\" es el código con el que se identifica a la empresa\n",
    "Nvidia1 = yf.download(Ticker, start='2020-01-01', end='2024-12-31')\n",
    "\n",
    "Nvidia1.head(10) #nos mostrará las primeras filas"
   ]
  },
  {
   "cell_type": "markdown",
   "id": "3755d28f",
   "metadata": {},
   "source": [
    "Vemos que las columnas que se generaron son de más de un nivel, esto podría generar problemas para importarlo a SQL, antes de eso debemos eliminar el segundo nivel y asegurarnos que se importe correctamente"
   ]
  },
  {
   "cell_type": "code",
   "execution_count": null,
   "id": "395a87ee",
   "metadata": {},
   "outputs": [
    {
     "data": {
      "application/vnd.microsoft.datawrangler.viewer.v0+json": {
       "columns": [
        {
         "name": "Date",
         "rawType": "datetime64[ns]",
         "type": "datetime"
        },
        {
         "name": "Close",
         "rawType": "float64",
         "type": "float"
        },
        {
         "name": "High",
         "rawType": "float64",
         "type": "float"
        },
        {
         "name": "Low",
         "rawType": "float64",
         "type": "float"
        },
        {
         "name": "Open",
         "rawType": "float64",
         "type": "float"
        },
        {
         "name": "Volume",
         "rawType": "int64",
         "type": "integer"
        }
       ],
       "conversionMethod": "pd.DataFrame",
       "ref": "cd4a7ec0-0005-4143-9abd-33d540b2c3e2",
       "rows": [
        [
         "2020-01-02 00:00:00",
         "5.972162246704102",
         "5.972162246704102",
         "5.892752889630751",
         "5.943286160023145",
         "237536000"
        ],
        [
         "2020-01-03 00:00:00",
         "5.876570701599121",
         "5.920383126947964",
         "5.827530697782755",
         "5.852424132067387",
         "205384000"
        ],
        [
         "2020-01-06 00:00:00",
         "5.901214599609375",
         "5.906442177842307",
         "5.757082528442674",
         "5.783220419607336",
         "262636000"
        ],
        [
         "2020-01-07 00:00:00",
         "5.972659111022949",
         "6.018462860706855",
         "5.88453666408317",
         "5.929593548989243",
         "314856000"
        ],
        [
         "2020-01-08 00:00:00",
         "5.983860969543457",
         "6.025184004233772",
         "5.928348928870455",
         "5.968427030697477",
         "277108000"
        ],
        [
         "2020-01-09 00:00:00",
         "6.049580097198486",
         "6.122019814933287",
         "5.995810576233439",
         "6.070241617025367",
         "255112000"
        ],
        [
         "2020-01-10 00:00:00",
         "6.0819411277771",
         "6.187240048138393",
         "6.067752120336746",
         "6.156870235432352",
         "316296000"
        ],
        [
         "2020-01-13 00:00:00",
         "6.272624492645264",
         "6.2977667270316795",
         "6.142432131580578",
         "6.165085449519322",
         "319840000"
        ],
        [
         "2020-01-14 00:00:00",
         "6.155625820159912",
         "6.255199094022158",
         "6.142431999336012",
         "6.2298075886953805",
         "359088000"
        ],
        [
         "2020-01-15 00:00:00",
         "6.113058090209961",
         "6.19072538934148",
         "6.087168990499455",
         "6.1683213424842025",
         "263104000"
        ]
       ],
       "shape": {
        "columns": 5,
        "rows": 10
       }
      },
      "text/html": [
       "<div>\n",
       "<style scoped>\n",
       "    .dataframe tbody tr th:only-of-type {\n",
       "        vertical-align: middle;\n",
       "    }\n",
       "\n",
       "    .dataframe tbody tr th {\n",
       "        vertical-align: top;\n",
       "    }\n",
       "\n",
       "    .dataframe thead th {\n",
       "        text-align: right;\n",
       "    }\n",
       "</style>\n",
       "<table border=\"1\" class=\"dataframe\">\n",
       "  <thead>\n",
       "    <tr style=\"text-align: right;\">\n",
       "      <th>Price</th>\n",
       "      <th>Close</th>\n",
       "      <th>High</th>\n",
       "      <th>Low</th>\n",
       "      <th>Open</th>\n",
       "      <th>Volume</th>\n",
       "    </tr>\n",
       "    <tr>\n",
       "      <th>Date</th>\n",
       "      <th></th>\n",
       "      <th></th>\n",
       "      <th></th>\n",
       "      <th></th>\n",
       "      <th></th>\n",
       "    </tr>\n",
       "  </thead>\n",
       "  <tbody>\n",
       "    <tr>\n",
       "      <th>2020-01-02</th>\n",
       "      <td>5.972162</td>\n",
       "      <td>5.972162</td>\n",
       "      <td>5.892753</td>\n",
       "      <td>5.943286</td>\n",
       "      <td>237536000</td>\n",
       "    </tr>\n",
       "    <tr>\n",
       "      <th>2020-01-03</th>\n",
       "      <td>5.876571</td>\n",
       "      <td>5.920383</td>\n",
       "      <td>5.827531</td>\n",
       "      <td>5.852424</td>\n",
       "      <td>205384000</td>\n",
       "    </tr>\n",
       "    <tr>\n",
       "      <th>2020-01-06</th>\n",
       "      <td>5.901215</td>\n",
       "      <td>5.906442</td>\n",
       "      <td>5.757083</td>\n",
       "      <td>5.783220</td>\n",
       "      <td>262636000</td>\n",
       "    </tr>\n",
       "    <tr>\n",
       "      <th>2020-01-07</th>\n",
       "      <td>5.972659</td>\n",
       "      <td>6.018463</td>\n",
       "      <td>5.884537</td>\n",
       "      <td>5.929594</td>\n",
       "      <td>314856000</td>\n",
       "    </tr>\n",
       "    <tr>\n",
       "      <th>2020-01-08</th>\n",
       "      <td>5.983861</td>\n",
       "      <td>6.025184</td>\n",
       "      <td>5.928349</td>\n",
       "      <td>5.968427</td>\n",
       "      <td>277108000</td>\n",
       "    </tr>\n",
       "    <tr>\n",
       "      <th>2020-01-09</th>\n",
       "      <td>6.049580</td>\n",
       "      <td>6.122020</td>\n",
       "      <td>5.995811</td>\n",
       "      <td>6.070242</td>\n",
       "      <td>255112000</td>\n",
       "    </tr>\n",
       "    <tr>\n",
       "      <th>2020-01-10</th>\n",
       "      <td>6.081941</td>\n",
       "      <td>6.187240</td>\n",
       "      <td>6.067752</td>\n",
       "      <td>6.156870</td>\n",
       "      <td>316296000</td>\n",
       "    </tr>\n",
       "    <tr>\n",
       "      <th>2020-01-13</th>\n",
       "      <td>6.272624</td>\n",
       "      <td>6.297767</td>\n",
       "      <td>6.142432</td>\n",
       "      <td>6.165085</td>\n",
       "      <td>319840000</td>\n",
       "    </tr>\n",
       "    <tr>\n",
       "      <th>2020-01-14</th>\n",
       "      <td>6.155626</td>\n",
       "      <td>6.255199</td>\n",
       "      <td>6.142432</td>\n",
       "      <td>6.229808</td>\n",
       "      <td>359088000</td>\n",
       "    </tr>\n",
       "    <tr>\n",
       "      <th>2020-01-15</th>\n",
       "      <td>6.113058</td>\n",
       "      <td>6.190725</td>\n",
       "      <td>6.087169</td>\n",
       "      <td>6.168321</td>\n",
       "      <td>263104000</td>\n",
       "    </tr>\n",
       "  </tbody>\n",
       "</table>\n",
       "</div>"
      ],
      "text/plain": [
       "Price          Close      High       Low      Open     Volume\n",
       "Date                                                         \n",
       "2020-01-02  5.972162  5.972162  5.892753  5.943286  237536000\n",
       "2020-01-03  5.876571  5.920383  5.827531  5.852424  205384000\n",
       "2020-01-06  5.901215  5.906442  5.757083  5.783220  262636000\n",
       "2020-01-07  5.972659  6.018463  5.884537  5.929594  314856000\n",
       "2020-01-08  5.983861  6.025184  5.928349  5.968427  277108000\n",
       "2020-01-09  6.049580  6.122020  5.995811  6.070242  255112000\n",
       "2020-01-10  6.081941  6.187240  6.067752  6.156870  316296000\n",
       "2020-01-13  6.272624  6.297767  6.142432  6.165085  319840000\n",
       "2020-01-14  6.155626  6.255199  6.142432  6.229808  359088000\n",
       "2020-01-15  6.113058  6.190725  6.087169  6.168321  263104000"
      ]
     },
     "execution_count": 17,
     "metadata": {},
     "output_type": "execute_result"
    }
   ],
   "source": [
    "# eliminamos el segundo nivel (el que tiene el nombre de las acciones)\n",
    "Nvidia1.columns = Nvidia1.columns.droplevel(1) \n",
    "\n",
    "#verificamos que se haya eliminado\n",
    "Nvidia1.head(10)"
   ]
  },
  {
   "cell_type": "code",
   "execution_count": 18,
   "id": "3b79c2d0",
   "metadata": {},
   "outputs": [
    {
     "data": {
      "text/plain": [
       "210"
      ]
     },
     "execution_count": 18,
     "metadata": {},
     "output_type": "execute_result"
    }
   ],
   "source": [
    "Nvidia1.to_sql('Nvidia', engine, if_exists='replace', index=True)"
   ]
  },
  {
   "cell_type": "markdown",
   "id": "49c57ad9",
   "metadata": {},
   "source": [
    "Esta última función lo que hace en términos generales es importar el dataframe llamado \"Nvidia1\" a una tabla en SQL server llamada \"Nvidia\", \n",
    "en caso esta tabla ya exista se reemplazará con la data de este nuevo dataframe, el parámetro de \"index\" está en \"True\" para que se importe \n",
    "la fecha, que en el dataframe la reconoce como el índice (la columna 0)\n",
    "\n",
    "Ahora probemos si resultó, usemos el \"engine\" para realizar una consulta a la base de datos, tal como haríamos si estuvieramos en \n",
    "la interfaz de SSMS (SQL Server Management Studio)"
   ]
  },
  {
   "cell_type": "code",
   "execution_count": 33,
   "id": "a7902739",
   "metadata": {},
   "outputs": [
    {
     "data": {
      "application/vnd.microsoft.datawrangler.viewer.v0+json": {
       "columns": [
        {
         "name": "index",
         "rawType": "int64",
         "type": "integer"
        },
        {
         "name": "Date",
         "rawType": "datetime64[ns]",
         "type": "datetime"
        },
        {
         "name": "Close",
         "rawType": "float64",
         "type": "float"
        },
        {
         "name": "High",
         "rawType": "float64",
         "type": "float"
        },
        {
         "name": "Low",
         "rawType": "float64",
         "type": "float"
        },
        {
         "name": "Open",
         "rawType": "float64",
         "type": "float"
        },
        {
         "name": "Volume",
         "rawType": "int64",
         "type": "integer"
        }
       ],
       "conversionMethod": "pd.DataFrame",
       "ref": "b7633844-9bc1-42c3-990c-66b96c2c06c6",
       "rows": [
        [
         "0",
         "2023-01-03 00:00:00",
         "14.303278923034668",
         "14.983722051275688",
         "14.084458370348052",
         "14.838840315183736",
         "401277000"
        ],
        [
         "1",
         "2023-01-04 00:00:00",
         "14.73692512512207",
         "14.840840075575478",
         "14.22934158563889",
         "14.555074914722184",
         "431324000"
        ],
        [
         "2",
         "2023-01-05 00:00:00",
         "14.253320693969727",
         "14.552075670491968",
         "14.136415909839469",
         "14.479135485903637",
         "389168000"
        ],
        [
         "3",
         "2023-01-06 00:00:00",
         "14.846834182739258",
         "14.997710572155174",
         "14.022509854107087",
         "14.462149178413084",
         "405044000"
        ],
        [
         "4",
         "2023-01-09 00:00:00",
         "15.615205764770508",
         "16.04285486212836",
         "15.128604002009597",
         "15.271487531503388",
         "504231000"
        ],
        [
         "5",
         "2023-01-10 00:00:00",
         "15.895974159240723",
         "15.948930259886339",
         "15.459331698978017",
         "15.494302888629546",
         "384101000"
        ],
        [
         "6",
         "2023-01-11 00:00:00",
         "15.987898826599121",
         "16.01487714757313",
         "15.550257708216126",
         "15.827031344724569",
         "353285000"
        ],
        [
         "7",
         "2023-01-12 00:00:00",
         "16.497480392456055",
         "16.623376674174565",
         "15.479314701266622",
         "16.08681762259126",
         "551409000"
        ],
        [
         "8",
         "2023-01-13 00:00:00",
         "16.885164260864258",
         "16.908146146393516",
         "16.15176596394343",
         "16.264672409444337",
         "447287000"
        ],
        [
         "9",
         "2023-01-17 00:00:00",
         "17.6875057220459",
         "17.713485409677194",
         "16.885163700930974",
         "16.885163700930974",
         "511102000"
        ]
       ],
       "shape": {
        "columns": 6,
        "rows": 10
       }
      },
      "text/html": [
       "<div>\n",
       "<style scoped>\n",
       "    .dataframe tbody tr th:only-of-type {\n",
       "        vertical-align: middle;\n",
       "    }\n",
       "\n",
       "    .dataframe tbody tr th {\n",
       "        vertical-align: top;\n",
       "    }\n",
       "\n",
       "    .dataframe thead th {\n",
       "        text-align: right;\n",
       "    }\n",
       "</style>\n",
       "<table border=\"1\" class=\"dataframe\">\n",
       "  <thead>\n",
       "    <tr style=\"text-align: right;\">\n",
       "      <th></th>\n",
       "      <th>Date</th>\n",
       "      <th>Close</th>\n",
       "      <th>High</th>\n",
       "      <th>Low</th>\n",
       "      <th>Open</th>\n",
       "      <th>Volume</th>\n",
       "    </tr>\n",
       "  </thead>\n",
       "  <tbody>\n",
       "    <tr>\n",
       "      <th>0</th>\n",
       "      <td>2023-01-03</td>\n",
       "      <td>14.303279</td>\n",
       "      <td>14.983722</td>\n",
       "      <td>14.084458</td>\n",
       "      <td>14.838840</td>\n",
       "      <td>401277000</td>\n",
       "    </tr>\n",
       "    <tr>\n",
       "      <th>1</th>\n",
       "      <td>2023-01-04</td>\n",
       "      <td>14.736925</td>\n",
       "      <td>14.840840</td>\n",
       "      <td>14.229342</td>\n",
       "      <td>14.555075</td>\n",
       "      <td>431324000</td>\n",
       "    </tr>\n",
       "    <tr>\n",
       "      <th>2</th>\n",
       "      <td>2023-01-05</td>\n",
       "      <td>14.253321</td>\n",
       "      <td>14.552076</td>\n",
       "      <td>14.136416</td>\n",
       "      <td>14.479135</td>\n",
       "      <td>389168000</td>\n",
       "    </tr>\n",
       "    <tr>\n",
       "      <th>3</th>\n",
       "      <td>2023-01-06</td>\n",
       "      <td>14.846834</td>\n",
       "      <td>14.997711</td>\n",
       "      <td>14.022510</td>\n",
       "      <td>14.462149</td>\n",
       "      <td>405044000</td>\n",
       "    </tr>\n",
       "    <tr>\n",
       "      <th>4</th>\n",
       "      <td>2023-01-09</td>\n",
       "      <td>15.615206</td>\n",
       "      <td>16.042855</td>\n",
       "      <td>15.128604</td>\n",
       "      <td>15.271488</td>\n",
       "      <td>504231000</td>\n",
       "    </tr>\n",
       "    <tr>\n",
       "      <th>5</th>\n",
       "      <td>2023-01-10</td>\n",
       "      <td>15.895974</td>\n",
       "      <td>15.948930</td>\n",
       "      <td>15.459332</td>\n",
       "      <td>15.494303</td>\n",
       "      <td>384101000</td>\n",
       "    </tr>\n",
       "    <tr>\n",
       "      <th>6</th>\n",
       "      <td>2023-01-11</td>\n",
       "      <td>15.987899</td>\n",
       "      <td>16.014877</td>\n",
       "      <td>15.550258</td>\n",
       "      <td>15.827031</td>\n",
       "      <td>353285000</td>\n",
       "    </tr>\n",
       "    <tr>\n",
       "      <th>7</th>\n",
       "      <td>2023-01-12</td>\n",
       "      <td>16.497480</td>\n",
       "      <td>16.623377</td>\n",
       "      <td>15.479315</td>\n",
       "      <td>16.086818</td>\n",
       "      <td>551409000</td>\n",
       "    </tr>\n",
       "    <tr>\n",
       "      <th>8</th>\n",
       "      <td>2023-01-13</td>\n",
       "      <td>16.885164</td>\n",
       "      <td>16.908146</td>\n",
       "      <td>16.151766</td>\n",
       "      <td>16.264672</td>\n",
       "      <td>447287000</td>\n",
       "    </tr>\n",
       "    <tr>\n",
       "      <th>9</th>\n",
       "      <td>2023-01-17</td>\n",
       "      <td>17.687506</td>\n",
       "      <td>17.713485</td>\n",
       "      <td>16.885164</td>\n",
       "      <td>16.885164</td>\n",
       "      <td>511102000</td>\n",
       "    </tr>\n",
       "  </tbody>\n",
       "</table>\n",
       "</div>"
      ],
      "text/plain": [
       "        Date      Close       High        Low       Open     Volume\n",
       "0 2023-01-03  14.303279  14.983722  14.084458  14.838840  401277000\n",
       "1 2023-01-04  14.736925  14.840840  14.229342  14.555075  431324000\n",
       "2 2023-01-05  14.253321  14.552076  14.136416  14.479135  389168000\n",
       "3 2023-01-06  14.846834  14.997711  14.022510  14.462149  405044000\n",
       "4 2023-01-09  15.615206  16.042855  15.128604  15.271488  504231000\n",
       "5 2023-01-10  15.895974  15.948930  15.459332  15.494303  384101000\n",
       "6 2023-01-11  15.987899  16.014877  15.550258  15.827031  353285000\n",
       "7 2023-01-12  16.497480  16.623377  15.479315  16.086818  551409000\n",
       "8 2023-01-13  16.885164  16.908146  16.151766  16.264672  447287000\n",
       "9 2023-01-17  17.687506  17.713485  16.885164  16.885164  511102000"
      ]
     },
     "execution_count": 33,
     "metadata": {},
     "output_type": "execute_result"
    }
   ],
   "source": [
    "Nvidia2023 = pd.read_sql(\"\"\"\n",
    "                        select * from Nvidia\n",
    "                        where YEAR(Date)=2023\n",
    "                        order by Date ASC\"\"\", engine)\n",
    "\n",
    "# Mostrar las primeras filas\n",
    "Nvidia2023.head(10)"
   ]
  },
  {
   "cell_type": "markdown",
   "id": "47ae5c6f",
   "metadata": {},
   "source": [
    "La función read_sql que pertenece a Pandas, permite redactar una consulta como si se tratara de SQL server, esto nos permite extraer datos usando \n",
    "consultas desde las mas sencillas hasta las mas complejas, usando como \"llave\", el \"engine\" que habíamos usado antes.\n",
    "\n",
    "Por último, con el objetivo de demostrar que efectivamente la consulta funcionó y se extrajo los datos de las acciones únicamente para el año 2023"
   ]
  },
  {
   "cell_type": "code",
   "execution_count": null,
   "id": "4454eb0c",
   "metadata": {},
   "outputs": [
    {
     "data": {
      "application/vnd.microsoft.datawrangler.viewer.v0+json": {
       "columns": [
        {
         "name": "index",
         "rawType": "int64",
         "type": "integer"
        },
        {
         "name": "Date",
         "rawType": "datetime64[ns]",
         "type": "datetime"
        },
        {
         "name": "Close",
         "rawType": "float64",
         "type": "float"
        },
        {
         "name": "High",
         "rawType": "float64",
         "type": "float"
        },
        {
         "name": "Low",
         "rawType": "float64",
         "type": "float"
        },
        {
         "name": "Open",
         "rawType": "float64",
         "type": "float"
        },
        {
         "name": "Volume",
         "rawType": "int64",
         "type": "integer"
        }
       ],
       "conversionMethod": "pd.DataFrame",
       "ref": "d642a47a-fc3c-4c4a-abbd-aa8676993741",
       "rows": [
        [
         "0",
         "2023-01-03 00:00:00",
         "14.303278923034668",
         "14.983722051275688",
         "14.084458370348052",
         "14.838840315183736",
         "401277000"
        ],
        [
         "249",
         "2023-12-29 00:00:00",
         "49.50341033935547",
         "49.978234327074226",
         "48.732699840316755",
         "49.79430147307111",
         "389293000"
        ]
       ],
       "shape": {
        "columns": 6,
        "rows": 2
       }
      },
      "text/html": [
       "<div>\n",
       "<style scoped>\n",
       "    .dataframe tbody tr th:only-of-type {\n",
       "        vertical-align: middle;\n",
       "    }\n",
       "\n",
       "    .dataframe tbody tr th {\n",
       "        vertical-align: top;\n",
       "    }\n",
       "\n",
       "    .dataframe thead th {\n",
       "        text-align: right;\n",
       "    }\n",
       "</style>\n",
       "<table border=\"1\" class=\"dataframe\">\n",
       "  <thead>\n",
       "    <tr style=\"text-align: right;\">\n",
       "      <th></th>\n",
       "      <th>Date</th>\n",
       "      <th>Close</th>\n",
       "      <th>High</th>\n",
       "      <th>Low</th>\n",
       "      <th>Open</th>\n",
       "      <th>Volume</th>\n",
       "    </tr>\n",
       "  </thead>\n",
       "  <tbody>\n",
       "    <tr>\n",
       "      <th>0</th>\n",
       "      <td>2023-01-03</td>\n",
       "      <td>14.303279</td>\n",
       "      <td>14.983722</td>\n",
       "      <td>14.084458</td>\n",
       "      <td>14.838840</td>\n",
       "      <td>401277000</td>\n",
       "    </tr>\n",
       "    <tr>\n",
       "      <th>249</th>\n",
       "      <td>2023-12-29</td>\n",
       "      <td>49.503410</td>\n",
       "      <td>49.978234</td>\n",
       "      <td>48.732700</td>\n",
       "      <td>49.794301</td>\n",
       "      <td>389293000</td>\n",
       "    </tr>\n",
       "  </tbody>\n",
       "</table>\n",
       "</div>"
      ],
      "text/plain": [
       "          Date      Close       High        Low       Open     Volume\n",
       "0   2023-01-03  14.303279  14.983722  14.084458  14.838840  401277000\n",
       "249 2023-12-29  49.503410  49.978234  48.732700  49.794301  389293000"
      ]
     },
     "execution_count": 34,
     "metadata": {},
     "output_type": "execute_result"
    }
   ],
   "source": [
    "#extrae el primer dato que se identifica (fila número 0)\n",
    "primer_fila = Nvidia2023.head(1) \n",
    "\n",
    "#extrae el último dato del que se tiene registro (fila número 249)\n",
    "ultima_fila = Nvidia2023.tail(1) \n",
    "\n",
    "df_unido = pd.concat([primer_fila, ultima_fila], axis=0)\n",
    "df_unido"
   ]
  }
 ],
 "metadata": {
  "kernelspec": {
   "display_name": "Python 3",
   "language": "python",
   "name": "python3"
  },
  "language_info": {
   "codemirror_mode": {
    "name": "ipython",
    "version": 3
   },
   "file_extension": ".py",
   "mimetype": "text/x-python",
   "name": "python",
   "nbconvert_exporter": "python",
   "pygments_lexer": "ipython3",
   "version": "3.12.10"
  }
 },
 "nbformat": 4,
 "nbformat_minor": 5
}
